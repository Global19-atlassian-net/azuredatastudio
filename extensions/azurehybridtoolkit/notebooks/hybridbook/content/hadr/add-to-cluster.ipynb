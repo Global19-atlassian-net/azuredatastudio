{
    "metadata": {
        "kernelspec": {
            "name": "powershell",
            "display_name": "PowerShell",
            "language": "powershell"
        },
        "language_info": {
            "mimetype": "text/x-sh",
            "file_extension": ".ps1",
            "name": "powershell",
            "codemirror_mode": "shell"
        }
    },
    "nbformat_minor": 2,
    "nbformat": 4,
    "cells": [
        {
            "cell_type": "markdown",
            "source": [
                "# Add additional nodes to Failover Cluster\n",
                "\n",
                "## Description\n",
                "\n",
                "Notebook for adding additional nodes to the Failover Cluster created in the previous notebook."
            ],
            "metadata": {
                "azdata_cell_guid": "a06088a7-db96-4ec7-9161-7e999dab247c"
            }
        },
        {
            "cell_type": "code",
            "source": [
                "#Set additional SQL VM name here.\r\n",
                "$SqlVmName = \"\"                          # The name of another domain SQL VM to add to the cluster"
            ],
            "metadata": {
                "azdata_cell_guid": "66934e6b-718d-4403-b4dc-1f804d88d0e2"
            },
            "outputs": [],
            "execution_count": null
        },
        {
            "cell_type": "markdown",
            "source": [
                "### **Add additional node to failover cluster**\n",
                "\n",
                "This will add an additional node to the failover cluster. **(Please wait for the process to finish completely before adding another node)**\n",
                "\n",
                "After adding all the nodes to the cluster, the following command must be run locally (via PowerShell) on one of the servers after connecting to it (ex. RDP)\n",
                "\n",
                "**<mark>Test-Cluster</mark>**\n",
                "\n",
                "### <span style=\"font-size:14px;\">For a failover cluster to be supported by Microsoft, it must pass cluster validation. Failure to do so leaves your cluster in an unsupported state.</span>"
            ],
            "metadata": {
                "azdata_cell_guid": "459b59db-81c6-4021-9034-68d5a8ae8457"
            }
        },
        {
            "cell_type": "code",
            "source": [
                "$sqlvm = Get-AzSqlVM -Name $SqlVmName -ResourceGroupName $ResourceGroupName\r\n",
                "\r\n",
                "$sqlvmconfig = Set-AzSqlVMConfigGroup -SqlVM $sqlvm `\r\n",
                "   -SqlVMGroup $group -ClusterOperatorAccountPassword $SecureOAPassword `\r\n",
                "   -SqlServiceAccountPassword $SecureSAPassword `\r\n",
                "   -ClusterBootstrapAccountPassword $SecureBAPassword\r\n",
                "\r\n",
                "Update-AzSqlVM -ResourceId $sqlvm.ResourceId -SqlVM $sqlvmconfig"
            ],
            "metadata": {
                "azdata_cell_guid": "5de82c27-a5d1-4ed2-9e6c-f94d1ce710e0"
            },
            "outputs": [],
            "execution_count": null
        },
        {
            "cell_type": "markdown",
            "source": [
                "### **Post node addition steps**\n",
                "\n",
                "Once all the desired SQL VMs in the domain have been added as nodes and the cluster verified, proceed to creating the availability group on the following page."
            ],
            "metadata": {
                "azdata_cell_guid": "3030e27b-3d6c-4131-b4ce-a82599a76755"
            }
        }
    ]
}