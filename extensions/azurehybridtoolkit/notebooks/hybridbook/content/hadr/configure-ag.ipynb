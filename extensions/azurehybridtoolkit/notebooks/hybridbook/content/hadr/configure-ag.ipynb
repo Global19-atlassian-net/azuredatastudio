{
    "metadata": {
        "kernelspec": {
            "name": "powershell",
            "display_name": "PowerShell",
            "language": "powershell"
        },
        "language_info": {
            "mimetype": "text/x-sh",
            "file_extension": ".ps1",
            "name": "powershell",
            "codemirror_mode": "shell"
        }
    },
    "nbformat_minor": 2,
    "nbformat": 4,
    "cells": [
        {
            "cell_type": "markdown",
            "source": [
                "# Create and configure Availability Group\n",
                "\n",
                "## Description\n",
                "\n",
                "Notebook to walk through creating an Availability Group via SSMS on the primary server instance."
            ],
            "metadata": {
                "azdata_cell_guid": "ff486dfd-93d4-4a5d-8985-6a352b87ad5e"
            }
        },
        {
            "cell_type": "markdown",
            "source": [
                "Note: before running the steps below, make sure that the following requirements have been satisfied:\n",
                "\n",
                "- Verify host instances of SQL Server each resides on a different node of a single failover cluster.\n",
                "- Verify server instances met the other server-instance prerequisites.\n",
                "- All the other Always On availability groups requirements are met and that all recommendations are considered.\n",
                "- Primary server must have a user made database in order to create replicas and ONLY the primary server.\n",
                "- Domain account must have sysadmin fixed server role, andeither CREATE AVAILABILITY GROUP server permission, ALTER ANY AVAILABILITY GROUP permission, or CONTROL SERVER permission.\n",
                "- If the server instance that was selected to host an availability replica is running under a domain user account and does not have a database mirroring endpoint, the wizard can create the endpoint and grant CONNECT permission to the server instance service account. If, however the SQL Server service is running as a built-in account, such as Local System, Local Service, or Network Service, or a nondomain account; certificates must be used for endpoint authentication and the database mirroring endpoint cannot be created by the wizard. It is recommended in this case to create the endpoints manually before you launch the Availability Group wizard.\n",
                "\n",
                "For more information on Always On Prerequisites see [here](https://docs.microsoft.com/en-us/sql/database-engine/availability-groups/windows/prereqs-restrictions-recommendations-always-on-availability?view=sql-server-ver15)."
            ],
            "metadata": {
                "azdata_cell_guid": "1ec5da17-225c-4161-95a9-846ba3fbda57"
            }
        },
        {
            "cell_type": "markdown",
            "source": [
                "Steps of the procedure include:\n",
                "\n",
                "1.  Setting up and using the SQL Server PowerShell Provider\n",
                "2. Changing directory to the server instance hosting the primary replica.\n",
                "3. Creating in-memory availability replica objects for the primary and then each of the secondary replicas.\n",
                "4. Creating the availability group.\n",
                "5. Joining the new secondary replica to the availability group.\n",
                "6.  For each database in the availability group, create a secondary database by restoring recent backups of the primary database.\n",
                "7. Join every new secondary new database to the availability group.\n",
                "8. (Optional step) Use the Windows dir command to verify contents of the availability group."
            ],
            "metadata": {
                "azdata_cell_guid": "803f9dab-4cd4-480c-8c8d-bfc241472b30"
            }
        }
    ]
}