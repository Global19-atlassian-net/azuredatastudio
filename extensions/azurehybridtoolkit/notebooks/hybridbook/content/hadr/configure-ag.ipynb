{
    "metadata": {
        "kernelspec": {
            "name": "powershell",
            "display_name": "PowerShell",
            "language": "powershell"
        },
        "language_info": {
            "mimetype": "text/x-sh",
            "file_extension": ".ps1",
            "name": "powershell",
            "codemirror_mode": "shell"
        }
    },
    "nbformat_minor": 2,
    "nbformat": 4,
    "cells": [
        {
            "cell_type": "markdown",
            "source": [
                "# Create and configure Availability Group\n",
                "\n",
                "## Description\n",
                "\n",
                "Notebook to walk through creating an Availability Group via the New Availability Group Wizard in SQL Server Management Studio"
            ],
            "metadata": {
                "azdata_cell_guid": "ff486dfd-93d4-4a5d-8985-6a352b87ad5e"
            }
        },
        {
            "cell_type": "markdown",
            "source": [
                "Note: before running the steps below, make sure that the following requirements have been satisfied:\n",
                "\n",
                "- Verify host instances of SQL Server each resides on a different node of a single failover cluster.\n",
                "- Verify server instances met the other server-instance prerequisites.\n",
                "- All the other Always On availability groups requirements are met and that all recommendations are considered.\n",
                "- Primary server must have at least one user made database in order to create secondary replicas and ONLY the primary server, not on the secondary servers.\n",
                "- Domain account must have sysadmin fixed server role, andeither CREATE AVAILABILITY GROUP server permission, ALTER ANY AVAILABILITY GROUP permission, or CONTROL SERVER permission.\n",
                "\n",
                "For more information on Always On Prerequisites see [here](https://docs.microsoft.com/en-us/sql/database-engine/availability-groups/windows/prereqs-restrictions-recommendations-always-on-availability?view=sql-server-ver15).\n",
                "\n",
                "SQL Server Failover Cluster Instances (FCI) do not support automatic failover by availability groups, so any availability replica hosted by an FCI can only be configured for manual failover.\n",
                "\n",
                "**Visual walkthrough on creating the Availability Group:**"
            ],
            "metadata": {
                "azdata_cell_guid": "1ec5da17-225c-4161-95a9-846ba3fbda57"
            }
        }
    ]
}