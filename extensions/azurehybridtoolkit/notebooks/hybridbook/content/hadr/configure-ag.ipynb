{
    "metadata": {
        "kernelspec": {
            "name": "powershell",
            "display_name": "PowerShell",
            "language": "powershell"
        },
        "language_info": {
            "name": "powershell",
            "codemirror_mode": "shell",
            "mimetype": "text/x-sh",
            "file_extension": ".ps1"
        }
    },
    "nbformat_minor": 2,
    "nbformat": 4,
    "cells": [
        {
            "cell_type": "markdown",
            "source": [
                 "# Create and configure Availability Group\n",
                "\n",
                "## Description\n",
                "\n",
                "Notebook to walk through creating an Availability Group via local PowerShell Commands."
            ],
            "metadata": {
                "azdata_cell_guid": "ff486dfd-93d4-4a5d-8985-6a352b87ad5e"
            }
        }
    ]
}
