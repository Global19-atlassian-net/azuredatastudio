{
    "metadata": {
        "kernelspec": {
            "name": "powershell",
            "display_name": "PowerShell",
            "language": "powershell"
        },
        "language_info": {
            "mimetype": "text/x-sh",
            "file_extension": ".ps1",
            "name": "powershell",
            "codemirror_mode": "shell"
        }
    },
    "nbformat_minor": 2,
    "nbformat": 4,
    "cells": [
        {
            "cell_type": "markdown",
            "source": [
                "# Create and configure Availability Group\n",
                "\n",
                "## Description\n",
                "\n",
                "Notebook to walk through creating an Availability Group via PowerShell commands"
            ],
            "metadata": {
                "azdata_cell_guid": "ff486dfd-93d4-4a5d-8985-6a352b87ad5e"
            }
        },
        {
            "cell_type": "markdown",
            "source": [
                "Note: before running the steps below, make sure that the following requirements have been satisfied:\n",
                "\n",
                "- Verify host instances of SQL Server each resides on a different node of a single failover cluster.\n",
                "- Verify server instances met the other server-instance prerequisites.\n",
                "- All the other Always On availability groups requirements are met and that all recommendations are considered.\n",
                "- Primary server must have at least one user made database in order to create secondary replicas.\n",
                "- Domain account must have sysadmin fixed server role, andeither CREATE AVAILABILITY GROUP server permission, ALTER ANY AVAILABILITY GROUP permission, or CONTROL SERVER permission.\n",
                "\n",
                "For more information on Always On Prerequisites see [here](https://docs.microsoft.com/en-us/sql/database-engine/availability-groups/windows/prereqs-restrictions-recommendations-always-on-availability?view=sql-server-ver15).\n",
                "\n",
                "SQL Server Failover Cluster Instances (FCI) do not support automatic failover by availability groups, so any availability replica hosted by an FCI can only be configured for manual failover.",
                "\n",
                "Here is a listing of variables that will be used to create the availability group:\n",
                "\n",
                "| Line # | Name | Example | Description |\n",
                "| --- | --- | --- | --- |\n",
                "| 1 | **Instance** | \"MSSQLSERVER\" | Name of the instance hosted on the primary server. If unnamed, by default it is \"MSSQLSERVER\". |\n",
                "| 2 | **DatabaseNames** | \"MyDatabases\" | Names of user made databases hosted on the primary server. Databases must not end with AUTO_CLOSE, cannot be in another availability group, and cannot be configured for database mirroring. |"
            ],
            "metadata": {
                "azdata_cell_guid": "1ec5da17-225c-4161-95a9-846ba3fbda57"
            }
        },
        {
            "cell_type": "code",
            "source": [
                "#Set Parameters\r\n",
                "$Instance = \"\"                  # Name of the instance hosted on the primary server\r\n",
                "$DatabaseNames = \"{}\"         # List of databases to include in the primary replica, separated by commas\r\n"
            ],
            "metadata": {
                "azdata_cell_guid": "4dd15d1c-29fe-44e9-bb1b-7191ec4676ea",
                "tags": []
            },
            "outputs": [],
            "execution_count": null
        },
        {
            "cell_type": "markdown",
            "source": [
                "### **Install SQLServer Module**\n",
                "\n",
                "### <span style=\"font-size: 14px;\">This module is required to run the commands below.</span>"
            ],
            "metadata": {
                "azdata_cell_guid": "abb93904-a184-4126-b150-e72790e7476a"
            }
        },
        {
            "cell_type": "code",
            "source": [
                "#Creating temporary file to store Import Module command\r\n",
                "echo \"Import-Module SQLServer\" > ImportModuleCommand.ps1\r\n",
                "\r\n",
                "#Running command on SQL VM\r\n",
                "Invoke-AzVMRunCommand -ResourceGroupName $ResourceGroupName -VMName $SqlVmName -CommandId \"RunPowerShellScript\" -ScriptPath \"ImportModuleCommand.ps1\"\r\n",
                "\r\n",
                "#Deleting Test-Cluster temporary file.\r\n",
                "if (Test-Path \"ImportModuleCommand.ps1\") {\r\n",
                "    Remove-Item \"ImportModuleCommand.ps1\"\r\n",
                "}"
            ],
            "metadata": {
                "azdata_cell_guid": "44d71a3e-937b-4d7f-b77b-03dbc063d6b0"
            },
            "outputs": [],
            "execution_count": null
        }
    ]
}