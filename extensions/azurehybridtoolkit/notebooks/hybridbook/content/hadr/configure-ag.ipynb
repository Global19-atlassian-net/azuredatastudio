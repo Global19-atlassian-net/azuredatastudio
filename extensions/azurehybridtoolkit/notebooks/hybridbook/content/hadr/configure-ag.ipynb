{
    "metadata": {
        "kernelspec": {
            "name": "powershell",
            "display_name": "PowerShell",
            "language": "powershell"
        },
        "language_info": {
            "name": "powershell",
            "codemirror_mode": "shell",
            "mimetype": "text/x-sh",
            "file_extension": ".ps1"
        }
    },
    "nbformat_minor": 2,
    "nbformat": 4,
    "cells": [
        {
            "cell_type": "markdown",
            "source": [
                "# Create and configure Availability Group\n",
                "\n",
                "## Description\n",
                "\n",
                "Notebook to walk through creating an Availability Group via local PowerShell Commands."
            ],
            "metadata": {
                "azdata_cell_guid": "ff486dfd-93d4-4a5d-8985-6a352b87ad5e"
            }
        },
        {
            "cell_type": "markdown",
            "source": [
                "Note: before running the steps below, make sure that the following requirements have been satisfied:\n",
                "\n",
                "- Verify host instances of SQL Server each resides on a different node of a single failover cluster.\n",
                "- Verify server instances met the other server-instance prerequisites.\n",
                "- All the other Always On availability groups requirements are met and that all recommendations are considered.\n",
                "\n",
                "For more information see [here](https://docs.microsoft.com/en-us/sql/database-engine/availability-groups/windows/prereqs-restrictions-recommendations-always-on-availability?view=sql-server-ver15) for prerequisites, restrictions, & recommendations."
            ],
            "metadata": {
                "azdata_cell_guid": "1ec5da17-225c-4161-95a9-846ba3fbda57"
            }
        }
    ]
}
